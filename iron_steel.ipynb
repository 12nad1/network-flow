{
 "cells": [
  {
   "cell_type": "markdown",
   "id": "b8aa1b0a-86f3-47a0-ab7b-f30e6953654e",
   "metadata": {},
   "source": [
    "### Algorithm overview\n",
    "\n",
    "- Compute distance between each pair of in-nodes and out-nodes (geodesic distance on globe, later \"distance\" can be modified to include trade barriers, etc.)\n",
    "- Probability/affinity of edge between (u,v) is proportional to in(u) * in(v) / dist(u,v)\n",
    "- Connect nodes and assign weights according to iterative proportional fitting\n",
    "- Validate data: pred_exp = sum(outflows from grid cells in i that are international edges) (same for imports)\n",
    "- Note that the validation step doesn't actually test the network, it just looks at the net flow\n",
    "- TODO: as of now, we just look at marginals (total imports and exports) rather than country flows. The model would be better if we train it on the marginals (force the network to match exisitng import and export values) and then compare it with actual data."
   ]
  },
  {
   "cell_type": "code",
   "execution_count": null,
   "id": "31a8a7fe-c0fa-4c8e-8401-9b359dc35ef5",
   "metadata": {},
   "outputs": [],
   "source": []
  },
  {
   "cell_type": "code",
   "execution_count": 2,
   "id": "31e364ad",
   "metadata": {},
   "outputs": [
    {
     "name": "stdout",
     "output_type": "stream",
     "text": [
      "The autoreload extension is already loaded. To reload it, use:\n",
      "  %reload_ext autoreload\n"
     ]
    },
    {
     "ename": "UnboundLocalError",
     "evalue": "cannot access local variable 'tabular_stat' where it is not associated with a value",
     "output_type": "error",
     "traceback": [
      "\u001b[31m---------------------------------------------------------------------------\u001b[39m",
      "\u001b[31mUnboundLocalError\u001b[39m                         Traceback (most recent call last)",
      "\u001b[36mCell\u001b[39m\u001b[36m \u001b[39m\u001b[32mIn[2]\u001b[39m\u001b[32m, line 19\u001b[39m\n\u001b[32m     13\u001b[39m fn = FlowNetwork(grid_data_path, \u001b[33m'\u001b[39m\u001b[33mprod_outflow\u001b[39m\u001b[33m'\u001b[39m, \u001b[33m'\u001b[39m\u001b[33mprod_inflow\u001b[39m\u001b[33m'\u001b[39m, time=\u001b[33m'\u001b[39m\u001b[33m2000\u001b[39m\u001b[33m'\u001b[39m)\n\u001b[32m     14\u001b[39m \u001b[38;5;66;03m#fn.gravity_model(threshold_percentile=20, verbose=verbose)\u001b[39;00m\n\u001b[32m     15\u001b[39m \u001b[38;5;66;03m#fn.ipf_flows(max_iters=100, tol=1e-6, verbose=verbose)\u001b[39;00m\n\u001b[32m     16\u001b[39m \u001b[38;5;66;03m#fn.plot_network_map(caption=None, num_edges=500, vmin=None, vmax=None, color='coolwarm', levels=6, edge_thickness=1, edge_alpha=0.5, edge_color='gray')\u001b[39;00m\n\u001b[32m     17\u001b[39m \u001b[38;5;66;03m# fn.check_mass_conservation(tol=1e-6, verbose=verbose)\u001b[39;00m\n\u001b[32m     18\u001b[39m \u001b[38;5;66;03m# fn.analyze_degree_distribution(caption=None, verbose=verbose)\u001b[39;00m\n\u001b[32m---> \u001b[39m\u001b[32m19\u001b[39m \u001b[43mfn\u001b[49m\u001b[43m.\u001b[49m\u001b[43mcompute_marginal_country_trade\u001b[49m\u001b[43m(\u001b[49m\u001b[43mout_path\u001b[49m\u001b[43m=\u001b[49m\u001b[38;5;28;43;01mNone\u001b[39;49;00m\u001b[43m,\u001b[49m\u001b[43m \u001b[49m\u001b[43mverbose\u001b[49m\u001b[43m=\u001b[49m\u001b[43mverbose\u001b[49m\u001b[43m)\u001b[49m\n\u001b[32m     20\u001b[39m fn.compare_model_with_trade_data(trade_csv_path, \u001b[33m\"\u001b[39m\u001b[33mFe_import\u001b[39m\u001b[33m\"\u001b[39m, pred_col=\u001b[33m\"\u001b[39m\u001b[33mestimated_imports\u001b[39m\u001b[33m\"\u001b[39m, year=\u001b[32m2000\u001b[39m, raw_log=\u001b[38;5;28;01mTrue\u001b[39;00m, pred_log=\u001b[38;5;28;01mTrue\u001b[39;00m, rm_outliers=\u001b[38;5;28;01mFalse\u001b[39;00m)\n\u001b[32m     21\u001b[39m fn.compare_model_with_trade_data(trade_csv_path, \u001b[33m\"\u001b[39m\u001b[33mFe_export\u001b[39m\u001b[33m\"\u001b[39m, pred_col=\u001b[33m\"\u001b[39m\u001b[33mestimated_exports\u001b[39m\u001b[33m\"\u001b[39m, year=\u001b[32m2000\u001b[39m, raw_log=\u001b[38;5;28;01mTrue\u001b[39;00m, pred_log=\u001b[38;5;28;01mTrue\u001b[39;00m, rm_outliers=\u001b[38;5;28;01mFalse\u001b[39;00m)\n",
      "\u001b[36mFile \u001b[39m\u001b[32m~/Documents/PhD Research/network-flow/FlowNetwork.py:472\u001b[39m, in \u001b[36mFlowNetwork.compute_marginal_country_trade\u001b[39m\u001b[34m(self, out_path, verbose)\u001b[39m\n\u001b[32m    469\u001b[39m \u001b[38;5;28;01mif\u001b[39;00m verbose:\n\u001b[32m    470\u001b[39m \t\u001b[38;5;28mprint\u001b[39m(\u001b[33m\"\u001b[39m\u001b[33mComputing country trade from network flows...\u001b[39m\u001b[33m\"\u001b[39m)\n\u001b[32m--> \u001b[39m\u001b[32m472\u001b[39m df = \u001b[43mssm\u001b[49m\u001b[43m.\u001b[49m\u001b[43mgrid_2_table\u001b[49m\u001b[43m(\u001b[49m\u001b[43mdataset\u001b[49m\u001b[43m=\u001b[49m\u001b[38;5;28;43mself\u001b[39;49m\u001b[43m.\u001b[49m\u001b[43mds\u001b[49m\u001b[43m,\u001b[49m\u001b[43m \u001b[49m\u001b[43mvariables\u001b[49m\u001b[43m=\u001b[49m\u001b[43m[\u001b[49m\u001b[38;5;28;43mself\u001b[39;49m\u001b[43m.\u001b[49m\u001b[43minflow_var\u001b[49m\u001b[43m,\u001b[49m\u001b[43m \u001b[49m\u001b[38;5;28;43mself\u001b[39;49m\u001b[43m.\u001b[49m\u001b[43moutflow_var\u001b[49m\u001b[43m]\u001b[49m\u001b[43m,\u001b[49m\u001b[43m \u001b[49m\u001b[43magg_function\u001b[49m\u001b[43m=\u001b[49m\u001b[33;43m'\u001b[39;49m\u001b[33;43msum\u001b[39;49m\u001b[33;43m'\u001b[39;49m\u001b[43m,\u001b[49m\u001b[43m \u001b[49m\u001b[43mverbose\u001b[49m\u001b[43m=\u001b[49m\u001b[43mverbose\u001b[49m\u001b[43m)\u001b[49m\n\u001b[32m    473\u001b[39m \u001b[38;5;66;03m#df = ssm.grid_2_table(dataset=self.ds, variables=self.outflow_var, agg_function='sum', verbose=verbose)\u001b[39;00m\n\u001b[32m    474\u001b[39m \u001b[38;5;66;03m#df = df.merge(df, on='ISO3')\u001b[39;00m\n\u001b[32m    475\u001b[39m \u001b[38;5;28mprint\u001b[39m(df)\n",
      "\u001b[36mFile \u001b[39m\u001b[32m~/miniconda3/envs/phd/lib/python3.13/site-packages/sesame/sesametoolbox.py:1050\u001b[39m, in \u001b[36mgrid_2_table\u001b[39m\u001b[34m(dataset, variables, time, grid_area, resolution, aggregation, agg_function, verbose, netcdf_path)\u001b[39m\n\u001b[32m   1022\u001b[39m \u001b[38;5;28;01mdef\u001b[39;00m\u001b[38;5;250m \u001b[39m\u001b[34mgrid_2_table\u001b[39m(dataset=\u001b[38;5;28;01mNone\u001b[39;00m, variables=\u001b[38;5;28;01mNone\u001b[39;00m, time=\u001b[38;5;28;01mNone\u001b[39;00m, grid_area=\u001b[38;5;28;01mNone\u001b[39;00m, resolution=\u001b[32m1\u001b[39m, aggregation=\u001b[38;5;28;01mNone\u001b[39;00m, agg_function=\u001b[33m'\u001b[39m\u001b[33msum\u001b[39m\u001b[33m'\u001b[39m, verbose=\u001b[38;5;28;01mFalse\u001b[39;00m, netcdf_path=\u001b[38;5;28;01mNone\u001b[39;00m):\n\u001b[32m   1023\u001b[39m \u001b[38;5;250m    \u001b[39m\u001b[33;03m\"\"\"\u001b[39;00m\n\u001b[32m   1024\u001b[39m \u001b[33;03m    Process gridded data from an xarray Dataset to generate tabular data for different jurisdictions.\u001b[39;00m\n\u001b[32m   1025\u001b[39m \n\u001b[32m   (...)\u001b[39m\u001b[32m   1047\u001b[39m \u001b[33;03m        Tabular data for different jurisdictions, including ISO3 codes, variable values, and optional 'Year' column.\u001b[39;00m\n\u001b[32m   1048\u001b[39m \u001b[33;03m    \"\"\"\u001b[39;00m\n\u001b[32m-> \u001b[39m\u001b[32m1050\u001b[39m     df = \u001b[43mutils\u001b[49m\u001b[43m.\u001b[49m\u001b[43mgrid_2_table\u001b[49m\u001b[43m(\u001b[49m\u001b[43minput_netcdf_path\u001b[49m\u001b[43m=\u001b[49m\u001b[43mnetcdf_path\u001b[49m\u001b[43m,\u001b[49m\u001b[43m \u001b[49m\u001b[43mds\u001b[49m\u001b[43m=\u001b[49m\u001b[43mdataset\u001b[49m\u001b[43m,\u001b[49m\u001b[43m \u001b[49m\u001b[43mvariables\u001b[49m\u001b[43m=\u001b[49m\u001b[43mvariables\u001b[49m\u001b[43m,\u001b[49m\u001b[43m \u001b[49m\u001b[43mtime\u001b[49m\u001b[43m=\u001b[49m\u001b[43mtime\u001b[49m\u001b[43m,\u001b[49m\u001b[43m \u001b[49m\n\u001b[32m   1051\u001b[39m \u001b[43m                           \u001b[49m\u001b[43mgrid_area\u001b[49m\u001b[43m=\u001b[49m\u001b[43mgrid_area\u001b[49m\u001b[43m,\u001b[49m\u001b[43m \u001b[49m\u001b[43mresolution\u001b[49m\u001b[43m=\u001b[49m\u001b[43mresolution\u001b[49m\u001b[43m,\u001b[49m\u001b[43m \u001b[49m\u001b[43maggregation\u001b[49m\u001b[43m=\u001b[49m\u001b[43maggregation\u001b[49m\u001b[43m,\u001b[49m\u001b[43m \u001b[49m\u001b[43mmethod\u001b[49m\u001b[43m=\u001b[49m\u001b[43magg_function\u001b[49m\u001b[43m,\u001b[49m\u001b[43m \u001b[49m\n\u001b[32m   1052\u001b[39m \u001b[43m                           \u001b[49m\u001b[43mverbose\u001b[49m\u001b[43m=\u001b[49m\u001b[43mverbose\u001b[49m\u001b[43m)\u001b[49m\n\u001b[32m   1053\u001b[39m     \u001b[38;5;28;01mreturn\u001b[39;00m df\n",
      "\u001b[36mFile \u001b[39m\u001b[32m~/miniconda3/envs/phd/lib/python3.13/site-packages/sesame/utils.py:1304\u001b[39m, in \u001b[36mgrid_2_table\u001b[39m\u001b[34m(input_netcdf_path, ds, variables, time, grid_area, resolution, aggregation, method, verbose)\u001b[39m\n\u001b[32m   1301\u001b[39m         \u001b[38;5;28;01melse\u001b[39;00m:\n\u001b[32m   1302\u001b[39m             \u001b[38;5;28;01mraise\u001b[39;00m \u001b[38;5;167;01mValueError\u001b[39;00m(\u001b[33mf\u001b[39m\u001b[33m\"\u001b[39m\u001b[33mUnsupported fold function: \u001b[39m\u001b[38;5;132;01m{\u001b[39;00mmethod\u001b[38;5;132;01m}\u001b[39;00m\u001b[33m\"\u001b[39m)\n\u001b[32m-> \u001b[39m\u001b[32m1304\u001b[39m     \u001b[38;5;28mprint\u001b[39m(\u001b[33mf\u001b[39m\u001b[33m\"\u001b[39m\u001b[33mGlobal tabular stats for \u001b[39m\u001b[38;5;132;01m{\u001b[39;00mvar\u001b[38;5;132;01m}\u001b[39;00m\u001b[33m: \u001b[39m\u001b[38;5;132;01m{\u001b[39;00m\u001b[43mtabular_stat\u001b[49m\u001b[38;5;132;01m:\u001b[39;00m\u001b[33m.2f\u001b[39m\u001b[38;5;132;01m}\u001b[39;00m\u001b[33m\"\u001b[39m)\n\u001b[32m   1306\u001b[39m     dataframes.append(df)\n\u001b[32m   1308\u001b[39m \u001b[38;5;66;03m# Merge all DataFrames horizontally on 'ISO3'\u001b[39;00m\n",
      "\u001b[31mUnboundLocalError\u001b[39m: cannot access local variable 'tabular_stat' where it is not associated with a value"
     ]
    }
   ],
   "source": [
    "%load_ext autoreload\n",
    "%autoreload 2\n",
    "\n",
    "from FlowNetwork import FlowNetwork\n",
    "import os\n",
    "\n",
    "verbose = False\n",
    "\n",
    "# Initialize the flow network with NetCDF data and variable names\n",
    "grid_data_path = os.path.join('data', 'L.T.iron_flows.2000-2016.a.nc')\n",
    "trade_csv_path = os.path.join('data', 'iron_raw_import_export.csv')\n",
    "\n",
    "fn = FlowNetwork(grid_data_path, 'prod_outflow', 'prod_inflow', time='2000')\n",
    "#fn.gravity_model(threshold_percentile=20, verbose=verbose)\n",
    "#fn.ipf_flows(max_iters=100, tol=1e-6, verbose=verbose)\n",
    "#fn.plot_network_map(caption=None, num_edges=500, vmin=None, vmax=None, color='coolwarm', levels=6, edge_thickness=1, edge_alpha=0.5, edge_color='gray')\n",
    "#fn.check_mass_conservation(tol=1e-6, verbose=verbose)\n",
    "#fn.analyze_degree_distribution(caption=None, verbose=verbose)\n",
    "fn.compute_marginal_country_trade(out_path=None, verbose=verbose)\n",
    "fn.compare_model_with_trade_data(trade_csv_path, \"Fe_import\", pred_col=\"estimated_imports\", year=2000, raw_log=True, pred_log=True, rm_outliers=False)\n",
    "fn.compare_model_with_trade_data(trade_csv_path, \"Fe_export\", pred_col=\"estimated_exports\", year=2000, raw_log=True, pred_log=True, rm_outliers=False)\n"
   ]
  },
  {
   "cell_type": "code",
   "execution_count": null,
   "id": "3b366a80",
   "metadata": {},
   "outputs": [],
   "source": []
  },
  {
   "cell_type": "code",
   "execution_count": null,
   "id": "b982589d-925f-4647-a2e6-e3a5528898bc",
   "metadata": {},
   "outputs": [],
   "source": []
  },
  {
   "cell_type": "code",
   "execution_count": null,
   "id": "22f817d4",
   "metadata": {},
   "outputs": [],
   "source": []
  },
  {
   "cell_type": "code",
   "execution_count": null,
   "id": "d3e42163-8376-4900-86ac-f9f10041e1d3",
   "metadata": {},
   "outputs": [],
   "source": []
  },
  {
   "cell_type": "code",
   "execution_count": null,
   "id": "6000bc3b-5274-42e9-a974-13536589f774",
   "metadata": {},
   "outputs": [],
   "source": []
  },
  {
   "cell_type": "code",
   "execution_count": null,
   "id": "2d872e70",
   "metadata": {},
   "outputs": [],
   "source": []
  },
  {
   "cell_type": "code",
   "execution_count": null,
   "id": "06eca98f",
   "metadata": {},
   "outputs": [],
   "source": []
  }
 ],
 "metadata": {
  "kernelspec": {
   "display_name": "phd",
   "language": "python",
   "name": "python3"
  },
  "language_info": {
   "codemirror_mode": {
    "name": "ipython",
    "version": 3
   },
   "file_extension": ".py",
   "mimetype": "text/x-python",
   "name": "python",
   "nbconvert_exporter": "python",
   "pygments_lexer": "ipython3",
   "version": "3.13.2"
  }
 },
 "nbformat": 4,
 "nbformat_minor": 5
}
